{
 "cells": [
  {
   "cell_type": "code",
   "execution_count": 1,
   "metadata": {},
   "outputs": [
    {
     "name": "stdout",
     "output_type": "stream",
     "text": [
      "['Sir Zia', 'Muhammad Qasim', 'DR Noman']\n"
     ]
    }
   ],
   "source": [
    "names : list[str] = ['Sir Zia',\"Muhammad Qasim\",\"DR Noman\"]\n",
    "print(names)"
   ]
  },
  {
   "cell_type": "code",
   "execution_count": 2,
   "metadata": {},
   "outputs": [
    {
     "name": "stdout",
     "output_type": "stream",
     "text": [
      "Sir Zia\n",
      "Muhammad Qasim\n",
      "DR Noman\n"
     ]
    }
   ],
   "source": [
    "names:list[str] = ['Sir Zia', \"Muhammad Qasim\", \"DR Noman\"]\n",
    "\n",
    "for name in names:\n",
    "    print(name)"
   ]
  },
  {
   "cell_type": "code",
   "execution_count": 3,
   "metadata": {},
   "outputs": [
    {
     "name": "stdout",
     "output_type": "stream",
     "text": [
      "Welcome Dear Tacher Sir Zia\n",
      "Welcome Dear Tacher Muhammad Qasim\n",
      "Welcome Dear Tacher Dr Noman\n"
     ]
    }
   ],
   "source": [
    "for name in names:\n",
    "    print(f'Welcome Dear Tacher {name.title()}')"
   ]
  },
  {
   "cell_type": "code",
   "execution_count": 4,
   "metadata": {},
   "outputs": [
    {
     "name": "stdout",
     "output_type": "stream",
     "text": [
      "Welcome Dear Tacher Sir Zia\n",
      "PIAIC Gen AI Team\n",
      "\n",
      "Welcome Dear Tacher Muhammad Qasim\n",
      "PIAIC Gen AI Team\n",
      "\n",
      "Welcome Dear Tacher Dr Noman\n",
      "PIAIC Gen AI Team\n",
      "\n"
     ]
    }
   ],
   "source": [
    "names:list[str] = ['Sir Zia', \"Muhammad Qasim\", \"DR Noman\"]\n",
    "\n",
    "for name in names:\n",
    "    print(f'Welcome Dear Tacher {name.title()}')\n",
    "    print(\"PIAIC Gen AI Team\\n\")"
   ]
  },
  {
   "cell_type": "code",
   "execution_count": 5,
   "metadata": {},
   "outputs": [
    {
     "name": "stdout",
     "output_type": "stream",
     "text": [
      "Welcome Dear Tacher DR NOMAN\n",
      "PIAIC Gen AI Team\n",
      "\n",
      "Welcome Dear Tacher MUHAMMAD QASIM\n",
      "PIAIC Gen AI Team\n",
      "\n",
      "Welcome Dear Tacher SIR ZIA\n",
      "PIAIC Gen AI Team\n",
      "\n",
      "Pakistan zinda bad\n",
      "\n"
     ]
    }
   ],
   "source": [
    "names:list[str] = ['Sir Zia', \"Muhammad Qasim\", \"DR Noman\"]\n",
    "\n",
    "for name in names[::-1]:\n",
    "    print(f'Welcome Dear Tacher {name.upper()}')\n",
    "    print(\"PIAIC Gen AI Team\\n\")\n",
    "print(\"Pakistan zinda bad\\n\")"
   ]
  },
  {
   "cell_type": "code",
   "execution_count": null,
   "metadata": {},
   "outputs": [],
   "source": [
    "input_user : str = input(\"Enter user name\")\n",
    "print(input_user)"
   ]
  },
  {
   "cell_type": "code",
   "execution_count": 6,
   "metadata": {},
   "outputs": [
    {
     "name": "stdout",
     "output_type": "stream",
     "text": [
      "('qasim', '123')\n",
      "('sirzia', '345')\n",
      "('ikhlas', '789')\n"
     ]
    }
   ],
   "source": [
    "data_base : list[tuple[str,str]] = [(\"qasim\",'123'),\n",
    "                                    (\"sirzia\",'345'),\n",
    "                                    ('ikhlas','789')\n",
    "                                    ]\n",
    "\n",
    "for row in data_base:\n",
    "    print(row)"
   ]
  },
  {
   "cell_type": "code",
   "execution_count": null,
   "metadata": {},
   "outputs": [],
   "source": [
    "data_base : list[tuple[str,str]] = [(\"qasim\",'123'),\n",
    "                                    (\"sirzia\",'345'),\n",
    "                                    ('ikhlas','789')\n",
    "                                    ]\n",
    "input_user : str = input(\"Enter user name\")\n",
    "input_password : str = input(\"Enter user password\")\n",
    "\n",
    "\n",
    "\n",
    "for row in data_base:\n",
    "    user, password = row\n",
    "    if input_user == user and input_password == password:\n",
    "        print(f\"Valid User {user}\")\n",
    "        break\n",
    "else:\n",
    "    print(\"Not found or Invalid user name\")"
   ]
  },
  {
   "cell_type": "code",
   "execution_count": null,
   "metadata": {},
   "outputs": [],
   "source": [
    "names:list[str] = ['Sir Zia', \"Muhammad Qasim\", \"DR Noman\"]\n",
    "\n",
    "for name in names:\n",
    "    print(name)\n",
    "    break\n",
    "else:\n",
    "    print(\"Hello world\")\n",
    "    "
   ]
  },
  {
   "cell_type": "code",
   "execution_count": null,
   "metadata": {},
   "outputs": [],
   "source": [
    "names:list[str] = ['Sir Zia', \"Muhammad Qasim\", \"DR Noman\"]\n",
    "\n",
    "for name in names:\n",
    "    print(name)\n",
    "    break\n",
    "    \n",
    "print(\"Hello world\")"
   ]
  },
  {
   "cell_type": "code",
   "execution_count": null,
   "metadata": {},
   "outputs": [],
   "source": [
    "magicians: list[str] = ['alice', 'david', 'carolina']\n",
    "for magician in magicians:\n",
    "    print(f\"{magician.title()}, that was a great trick!\")\n",
    "    \n",
    "\n",
    "print(f\"I can't wait to see your next trick, {magician.title()}.\\n\")"
   ]
  },
  {
   "cell_type": "code",
   "execution_count": null,
   "metadata": {},
   "outputs": [],
   "source": [
    "magicians = ['alice', 'david', 'carolina']\n",
    "for magician in magicians:\n",
    "    print(f\"{magician.title()}, that was a great trick!\")\n",
    "    print(f\"I can't wait to see your next trick, {magician.title()}.\\n\")\n",
    "    \n",
    "print(\"Thank you everyone, that was a great magic show!\")"
   ]
  },
  {
   "cell_type": "code",
   "execution_count": null,
   "metadata": {},
   "outputs": [],
   "source": [
    "list(range(10))"
   ]
  },
  {
   "cell_type": "code",
   "execution_count": null,
   "metadata": {},
   "outputs": [],
   "source": [
    "list(range(2,10))"
   ]
  },
  {
   "cell_type": "code",
   "execution_count": null,
   "metadata": {},
   "outputs": [],
   "source": [
    "list(range(2,21,2))"
   ]
  },
  {
   "cell_type": "code",
   "execution_count": null,
   "metadata": {},
   "outputs": [],
   "source": [
    "for n in range(1,11):\n",
    "    print(n)"
   ]
  },
  {
   "cell_type": "code",
   "execution_count": null,
   "metadata": {},
   "outputs": [],
   "source": [
    "for n in range(1,11):\n",
    "    print(f\"{2} X {n} = {n*2}\")"
   ]
  },
  {
   "cell_type": "code",
   "execution_count": null,
   "metadata": {},
   "outputs": [],
   "source": [
    "squares:list[int] = []\n",
    "for value in range(1, 11):\n",
    "    square = value ** 2\n",
    "    squares.append(square)\n",
    "print(squares)"
   ]
  },
  {
   "cell_type": "code",
   "execution_count": null,
   "metadata": {},
   "outputs": [],
   "source": [
    "for i in range(1,11):\n",
    "    print(i**2)"
   ]
  },
  {
   "cell_type": "code",
   "execution_count": null,
   "metadata": {},
   "outputs": [],
   "source": [
    "digits:list[int] = [1, 2, 3, 4, 5, 6, 7, 8, 9, 0]\n",
    "\n",
    "print(digits)\n",
    "print(max(digits))\n",
    "print(min(digits))\n",
    "print(sum(digits))"
   ]
  },
  {
   "cell_type": "code",
   "execution_count": null,
   "metadata": {},
   "outputs": [],
   "source": [
    "my_foods = ['pizza', 'falafel', 'carrot cake'] \n",
    "friend_foods = my_foods[:] \n",
    "\n",
    "print(my_foods)\n",
    "print(friend_foods)\n",
    "\n",
    "friend_foods[0] = \"Tikka\"\n",
    "\n",
    "print(my_foods)\n",
    "print(friend_foods)"
   ]
  },
  {
   "cell_type": "code",
   "execution_count": null,
   "metadata": {},
   "outputs": [],
   "source": [
    "names:tuple[str] = ('A',\"B\",'C')\n",
    "print(names[0])\n",
    "print(names[0:2])"
   ]
  },
  {
   "cell_type": "code",
   "execution_count": null,
   "metadata": {},
   "outputs": [],
   "source": [
    "names:tuple[str] = ('A',\"B\",'C')\n",
    "\n",
    "names:tuple[str] = ('Pakistan',\"B\",'C')\n",
    "\n",
    "print(names)"
   ]
  },
  {
   "cell_type": "code",
   "execution_count": null,
   "metadata": {},
   "outputs": [],
   "source": [
    "data : tuple[Any] = (\"A\",[1,2,3], True)\n",
    "\n",
    "print(data[1])\n",
    "data[1].append(20)\n",
    "print(data)"
   ]
  },
  {
   "cell_type": "code",
   "execution_count": null,
   "metadata": {},
   "outputs": [],
   "source": [
    "sorted([7,8,1,3])"
   ]
  }
 ],
 "metadata": {
  "kernelspec": {
   "display_name": "Python 3",
   "language": "python",
   "name": "python3"
  },
  "language_info": {
   "codemirror_mode": {
    "name": "ipython",
    "version": 3
   },
   "file_extension": ".py",
   "mimetype": "text/x-python",
   "name": "python",
   "nbconvert_exporter": "python",
   "pygments_lexer": "ipython3",
   "version": "3.12.0"
  }
 },
 "nbformat": 4,
 "nbformat_minor": 2
}
